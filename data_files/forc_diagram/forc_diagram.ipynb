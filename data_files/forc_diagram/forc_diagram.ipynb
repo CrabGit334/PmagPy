{
 "cells": [
  {
   "cell_type": "markdown",
   "metadata": {},
   "source": [
    "This is for conventional and irregular forc diagrams.\n",
    "\n",
    "two example of irforc and convential forc data in PmagPy/data_files/forc_diagram/\n",
    "\n",
    "The input data format could be very different due to different softwares and instruments,\n",
    "\n",
    "Nevertheless, only if the line ['    Field         Moment   '] included before the measured data, the software will work."
   ]
  },
  {
   "cell_type": "markdown",
   "metadata": {},
   "source": [
    "in command line:\n",
    "\n",
    "python3 forcdiagram /data_files/irforc_example.irforc 3\n",
    "\n",
    "will plot the FORC diagram with SF=3"
   ]
  },
  {
   "cell_type": "code",
   "execution_count": 1,
   "metadata": {},
   "outputs": [],
   "source": [
    "from forc_diagram import *\n",
    "from matplotlib import pyplot as plt"
   ]
  },
  {
   "cell_type": "code",
   "execution_count": 3,
   "metadata": {},
   "outputs": [
    {
     "ename": "NameError",
     "evalue": "name 'fig' is not defined",
     "output_type": "error",
     "traceback": [
      "\u001b[0;31m---------------------------------------------------------------------------\u001b[0m",
      "\u001b[0;31mNameError\u001b[0m                                 Traceback (most recent call last)",
      "\u001b[0;32m<ipython-input-3-4544b858c742>\u001b[0m in \u001b[0;36m<module>\u001b[0;34m()\u001b[0m\n\u001b[1;32m      2\u001b[0m \u001b[0mforc\u001b[0m \u001b[0;34m=\u001b[0m \u001b[0mForc\u001b[0m\u001b[0;34m(\u001b[0m\u001b[0mfileAdres\u001b[0m\u001b[0;34m=\u001b[0m\u001b[0;34m'../example/MSM33-60-1-d416_2.irforc'\u001b[0m\u001b[0;34m,\u001b[0m\u001b[0mSF\u001b[0m\u001b[0;34m=\u001b[0m\u001b[0;36m3\u001b[0m\u001b[0;34m)\u001b[0m\u001b[0;34m\u001b[0m\u001b[0m\n\u001b[1;32m      3\u001b[0m \u001b[0;34m\u001b[0m\u001b[0m\n\u001b[0;32m----> 4\u001b[0;31m fig.subplots_adjust(left=0.18, right=0.97,\n\u001b[0m\u001b[1;32m      5\u001b[0m                         bottom=0.18, top=0.9, wspace=0.5, hspace=0.5)\n\u001b[1;32m      6\u001b[0m plt.contour(forc.xi*1000,\n",
      "\u001b[0;31mNameError\u001b[0m: name 'fig' is not defined"
     ]
    }
   ],
   "source": [
    "#forc = Forc(fileAdres='/data_files/irforc_example.irforc',SF=3)\n",
    "forc = Forc(fileAdres='../example/MSM33-60-1-d416_2.irforc',SF=3)\n",
    "\n",
    "fig.subplots_adjust(left=0.18, right=0.97,\n",
    "                    bottom=0.18, top=0.9, wspace=0.5, hspace=0.5)\n",
    "plt.contour(forc.xi*1000,\n",
    "            forc.yi*1000,\n",
    "            forc.zi,9,\n",
    "            colors='k',linewidths=0.5)#mt to T\n",
    "\n",
    "plt.pcolormesh(forc.xi*1000,\n",
    "               forc.yi*1000,\n",
    "               forc.zi,\n",
    "               cmap=plt.get_cmap('rainbow'))#vmin=np.min(rho)-0.2)\n",
    "plt.colorbar()\n",
    "plt.xlabel('B$_{c}$ (mT)',fontsize=12)\n",
    "plt.ylabel('B$_{i}$ (mT)',fontsize=12)\n",
    "\n",
    "plt.show()"
   ]
  },
  {
   "cell_type": "code",
   "execution_count": null,
   "metadata": {},
   "outputs": [],
   "source": []
  }
 ],
 "metadata": {
  "kernelspec": {
   "display_name": "Python 3",
   "language": "python",
   "name": "python3"
  },
  "language_info": {
   "codemirror_mode": {
    "name": "ipython",
    "version": 3
   },
   "file_extension": ".py",
   "mimetype": "text/x-python",
   "name": "python",
   "nbconvert_exporter": "python",
   "pygments_lexer": "ipython3",
   "version": "3.5.2"
  }
 },
 "nbformat": 4,
 "nbformat_minor": 2
}
