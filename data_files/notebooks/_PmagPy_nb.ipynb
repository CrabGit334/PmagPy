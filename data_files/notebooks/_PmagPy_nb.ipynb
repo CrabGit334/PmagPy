{
 "cells": [
  {
   "cell_type": "markdown",
   "metadata": {},
   "source": [
    "This notebook demonstrates the use of PmagPy functions from within a  Jupyter notebook in parallel with the PmagPy cookbook http://earthref.org/PmagPy/cookbook.\n",
    "\n",
    "It is meant to function from within the PmagPy data_files/notebooks directory and calls are relative to that.  \n",
    "\n",
    "First, we import the pmagpy modules, **pmagplotlib**, **pmag** and **ipmag** and some other handy funcions for use in the notebook."
   ]
  },
  {
   "cell_type": "code",
   "execution_count": 15,
   "metadata": {},
   "outputs": [],
   "source": [
    "import pmagpy.pmag as pmag\n",
    "import pmagpy.pmagplotlib as pmagplotlib\n",
    "import pmagpy.ipmag as ipmag\n",
    "import matplotlib as plt\n",
    "import numpy as np\n",
    "import pandas as pd\n",
    "%matplotlib inline\n",
    "from importlib import reload\n",
    "reload(pmag)\n",
    "reload(ipmag);"
   ]
  },
  {
   "cell_type": "markdown",
   "metadata": {},
   "source": [
    "## pmag.angle( )\n",
    "\n",
    "There are several ways to use this from the notebook - one loading the data into a Pandas dataframe, then convert to the desired arrays, or load directly into a Numpy array of desired shape.  "
   ]
  },
  {
   "cell_type": "code",
   "execution_count": 47,
   "metadata": {},
   "outputs": [
    {
     "name": "stdout",
     "output_type": "stream",
     "text": [
      "Help on function angle in module pmagpy.pmag:\n",
      "\n",
      "angle(D1, D2)\n",
      "    Calculate the angle between two directions.\n",
      "    \n",
      "    Parameters\n",
      "    ----------\n",
      "    D1 : Direction 1 as an array of [declination, inclination] pair or pairs\n",
      "    D2 : Direction 2 as an array of [declination, inclination] pair or pairs\n",
      "    \n",
      "    Returns\n",
      "    -------\n",
      "    angle : angle between the directions as a single-element array\n",
      "    \n",
      "    Examples\n",
      "    --------\n",
      "    >>> pmag.angle([350.0,10.0],[320.0,20.0])\n",
      "    array([ 30.59060998])\n",
      "\n"
     ]
    }
   ],
   "source": [
    "help(pmag.angle)"
   ]
  },
  {
   "cell_type": "code",
   "execution_count": 48,
   "metadata": {},
   "outputs": [
    {
     "data": {
      "text/plain": [
       "array([  75.92745193,  119.10251273,  103.65330599,   81.42586582,\n",
       "        120.1048559 ,  100.8579262 ,   95.07347774,   74.10981614,\n",
       "         78.41266977,  120.05285684,  114.36156914,   66.30664335,\n",
       "         85.38356936,   95.07546203,   93.84174   ,   93.116631  ,\n",
       "        105.39087299,   71.78167883,  104.04746653,   93.84450445,\n",
       "         93.29827337,   96.34377954,   90.14271929,  112.17559328,\n",
       "         90.06592091,  120.00493016,   75.31604123,   86.19902246,\n",
       "         85.85667799,   82.64834934,  115.51261896,   99.28623007,\n",
       "         65.9466766 ,   90.55185269,   90.50418859,   84.49253198,\n",
       "         93.00731365,   67.47153733,   76.84279617,   83.80354   ,\n",
       "        128.3068145 ,   91.690954  ,   46.87441241,  110.66917836,\n",
       "        103.69699188,   64.35444341,   81.94448359,   94.01817998,\n",
       "        121.19588845,   83.64445512,  113.72812352,   76.38276774,\n",
       "        113.38742874,   74.09024232,   79.42493098,   74.92842387,\n",
       "         90.5556631 ,   91.44844861,  112.71773111,   77.26775912,\n",
       "         77.06338144,   62.41361128,   88.42053203,  106.29965884,\n",
       "        100.55759278,  143.79308212,  104.94537375,   91.83604987,\n",
       "         96.21780532,   85.58941479,   65.61977586,   88.64226464,\n",
       "         75.64540868,   93.36044834,  101.25961804,  115.14897178,\n",
       "         86.70974597,   92.32998728,   91.89347431,  102.39692204,\n",
       "         78.93051946,   93.41996659,   88.08998457,   94.50358255,\n",
       "         76.96036419,  110.40068516,   89.23179785,   80.90505187,\n",
       "        100.40590063,   91.88885371,  107.05953781,  115.8185023 ,\n",
       "        111.2919312 ,  124.61718069,   88.12341445,   66.94129884,\n",
       "         99.90439898,   76.73639992,   71.37398958,  100.7789606 ])"
      ]
     },
     "execution_count": 48,
     "metadata": {},
     "output_type": "execute_result"
    }
   ],
   "source": [
    "# Pandas way:\n",
    "di=pd.read_csv('../angle/angle.dat',delim_whitespace=True,header=None)\n",
    "#rename column headers\n",
    "di.columns=['Dec1','Inc1','Dec2','Inc2']\n",
    "# call pmag.angle\n",
    "pmag.angle(di[['Dec1','Inc1']].values,di[['Dec2','Inc2']].values)"
   ]
  },
  {
   "cell_type": "code",
   "execution_count": 49,
   "metadata": {},
   "outputs": [
    {
     "data": {
      "text/plain": [
       "array([  75.92745193,  119.10251273,  103.65330599,   81.42586582,\n",
       "        120.1048559 ,  100.8579262 ,   95.07347774,   74.10981614,\n",
       "         78.41266977,  120.05285684,  114.36156914,   66.30664335,\n",
       "         85.38356936,   95.07546203,   93.84174   ,   93.116631  ,\n",
       "        105.39087299,   71.78167883,  104.04746653,   93.84450445,\n",
       "         93.29827337,   96.34377954,   90.14271929,  112.17559328,\n",
       "         90.06592091,  120.00493016,   75.31604123,   86.19902246,\n",
       "         85.85667799,   82.64834934,  115.51261896,   99.28623007,\n",
       "         65.9466766 ,   90.55185269,   90.50418859,   84.49253198,\n",
       "         93.00731365,   67.47153733,   76.84279617,   83.80354   ,\n",
       "        128.3068145 ,   91.690954  ,   46.87441241,  110.66917836,\n",
       "        103.69699188,   64.35444341,   81.94448359,   94.01817998,\n",
       "        121.19588845,   83.64445512,  113.72812352,   76.38276774,\n",
       "        113.38742874,   74.09024232,   79.42493098,   74.92842387,\n",
       "         90.5556631 ,   91.44844861,  112.71773111,   77.26775912,\n",
       "         77.06338144,   62.41361128,   88.42053203,  106.29965884,\n",
       "        100.55759278,  143.79308212,  104.94537375,   91.83604987,\n",
       "         96.21780532,   85.58941479,   65.61977586,   88.64226464,\n",
       "         75.64540868,   93.36044834,  101.25961804,  115.14897178,\n",
       "         86.70974597,   92.32998728,   91.89347431,  102.39692204,\n",
       "         78.93051946,   93.41996659,   88.08998457,   94.50358255,\n",
       "         76.96036419,  110.40068516,   89.23179785,   80.90505187,\n",
       "        100.40590063,   91.88885371,  107.05953781,  115.8185023 ,\n",
       "        111.2919312 ,  124.61718069,   88.12341445,   66.94129884,\n",
       "         99.90439898,   76.73639992,   71.37398958,  100.7789606 ])"
      ]
     },
     "execution_count": 49,
     "metadata": {},
     "output_type": "execute_result"
    }
   ],
   "source": [
    "# Numpy way:\n",
    "di=np.loadtxt('../angle/angle.dat').transpose() # read in file\n",
    "D1=di[0:2].transpose() # assign to first array\n",
    "D2=di[2:].transpose() # assign to second array\n",
    "pmag.angle(D1,D2) # call pmag.angle"
   ]
  },
  {
   "cell_type": "markdown",
   "metadata": {},
   "source": [
    "## ani_depthplot.py\n",
    "We will use the **ipmag** version of this program which assumes the MagIC data model 3. If you want datamodel 2, just use **ipmag.ani_depthplot2().  "
   ]
  },
  {
   "cell_type": "code",
   "execution_count": 16,
   "metadata": {},
   "outputs": [
    {
     "name": "stdout",
     "output_type": "stream",
     "text": [
      "Help on function ani_depthplot in module pmagpy.ipmag:\n",
      "\n",
      "ani_depthplot(spec_file='specimens.txt', samp_file='samples.txt', meas_file='measurements.txt', site_file='sites.txt', age_file=None, sum_file=None, fmt='svg', dmin=-1, dmax=-1, depth_scale='core_depth', dir_path='.')\n",
      "    returns matplotlib figure with anisotropy data plotted against depth\n",
      "    available depth scales: 'composite_depth', 'core_depth' or 'age' (you must provide an age file to use this option)\n",
      "\n"
     ]
    }
   ],
   "source": [
    "help(ipmag.ani_depthplot)"
   ]
  },
  {
   "cell_type": "code",
   "execution_count": null,
   "metadata": {},
   "outputs": [],
   "source": [
    "ipmag.ani_depthplot(dir_path='../../data_files/ani_depthplot');"
   ]
  },
  {
   "cell_type": "code",
   "execution_count": null,
   "metadata": {},
   "outputs": [],
   "source": []
  }
 ],
 "metadata": {
  "kernelspec": {
   "display_name": "Python 3",
   "language": "python",
   "name": "python3"
  },
  "language_info": {
   "codemirror_mode": {
    "name": "ipython",
    "version": 3
   },
   "file_extension": ".py",
   "mimetype": "text/x-python",
   "name": "python",
   "nbconvert_exporter": "python",
   "pygments_lexer": "ipython3",
   "version": "3.6.3"
  }
 },
 "nbformat": 4,
 "nbformat_minor": 2
}
